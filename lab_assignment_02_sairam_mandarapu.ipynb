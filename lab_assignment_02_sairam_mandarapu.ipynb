{
  "cells": [
    {
      "cell_type": "markdown",
      "metadata": {
        "id": "Ryk8D1Q4Wsrp"
      },
      "source": [
        "# **The second Lab-assignment (07/19/2022 11:59'AM' - 07/22/2022 11:59PM, 50 points in total)**"
      ]
    },
    {
      "cell_type": "markdown",
      "metadata": {
        "id": "90_NR8c5XGWc"
      },
      "source": [
        "# Question 1\n",
        "\n",
        "(5 points). Write a Python program to generate 12 random numbers between 1 and 100. Sort the list of numbers in ascending order and print it out. Sort the list of numbers in descending order and print it out. Calculate the average for the group and print it out."
      ]
    },
    {
      "cell_type": "code",
      "execution_count": 104,
      "metadata": {
        "colab": {
          "base_uri": "https://localhost:8080/"
        },
        "id": "5QX6bJjGWXY9",
        "outputId": "e8952283-5ccb-4a49-88e0-74bd593d9611"
      },
      "outputs": [
        {
          "output_type": "stream",
          "name": "stdout",
          "text": [
            "12 Random Numbers:  [96, 4, 43, 44, 97, 50, 34, 60, 45, 3, 85, 19]\n",
            "In Ascending Order:  [3, 4, 19, 34, 43, 44, 45, 50, 60, 85, 96, 97]\n",
            "In Descending Order:  [97, 96, 85, 60, 50, 45, 44, 43, 34, 19, 4, 3]\n",
            "Average of List of the Numbers:  48.333333333333336\n"
          ]
        }
      ],
      "source": [
        "# Your code here\n",
        "import random\n",
        "sampleList=[]\n",
        "for i in range(1,13):\n",
        "  sampleList.append(random.randint(1,100))\n",
        "print(\"12 Random Numbers: \", sampleList)\n",
        "ascend = sorted(sampleList)\n",
        "descend = sorted(sampleList, reverse=True)\n",
        "print(\"In Ascending Order: \",ascend)\n",
        "print(\"In Descending Order: \",descend)\n",
        "print(\"Average of List of the Numbers: \",sum(sampleList)/len(sampleList))"
      ]
    },
    {
      "cell_type": "markdown",
      "metadata": {
        "id": "CmFoI4jDS9nx"
      },
      "source": [
        "# Question 2 \n",
        "\n",
        "(5 points). The formula that describes the volume V of a sphere with radius r is the following:\n",
        "\n",
        "$ V=\\frac{4}{3}\\ast\\ \\pi\\ast\\ r^3 $\n",
        "\n",
        "Write a program to calculate the value of V when r is in the range of 1–10. Output the result in the following format:\n",
        "\n",
        "\tr\tV\n",
        "\t1\t…\n",
        "\t2\t…\n",
        "\t3\t…\n"
      ]
    },
    {
      "cell_type": "code",
      "execution_count": 105,
      "metadata": {
        "colab": {
          "base_uri": "https://localhost:8080/"
        },
        "id": "pEyqeioAT95b",
        "outputId": "cb75c4af-21c8-4d20-a9bc-48da8629c8cc"
      },
      "outputs": [
        {
          "output_type": "stream",
          "name": "stdout",
          "text": [
            "r: \t V:\n",
            "1 \t 4.19047619047619\n",
            "2 \t 33.52380952380952\n",
            "3 \t 113.14285714285712\n",
            "4 \t 268.19047619047615\n",
            "5 \t 523.8095238095237\n",
            "6 \t 905.142857142857\n",
            "7 \t 1437.333333333333\n",
            "8 \t 2145.523809523809\n",
            "9 \t 3054.857142857142\n",
            "10 \t 4190.47619047619\n"
          ]
        }
      ],
      "source": [
        "# Your code here\n",
        "print(\"r:\",\"\\t\",\"V:\")\n",
        "for r in range(1,11):\n",
        "  print(r,\"\\t\",((4/3)*(22/7)*(r**3)))"
      ]
    },
    {
      "cell_type": "markdown",
      "metadata": {
        "id": "z3tBE7E-Xn5X"
      },
      "source": [
        "# Question 3\n",
        "\n",
        "(40 points). In the field of Data Science, data is often formatted as a comma-delimited (CSV) file, where each line in a file corresponds to a field's value. Refer to Chapter 9 (p. 106) for more information on comma-delimited files. To answer this question, you will need to download the file [lab_assignment_02_denton_housing.csv](https://github.com/suthapalliuday/INFO5502-Summer2022/blob/main/datasets/lab_assignment_02_denton_housing.csv) included with this assignment. The file [lab_assignment_02_denton_housing.csv](https://github.com/suthapalliuday/INFO5502-Summer2022/blob/main/datasets/lab_assignment_02_denton_housing.csv) contains statistics about housing in the city of Denton from 2008 to 2014. Write a program to implement the following questions.\n",
        "\n",
        "(1) (10 pts) Calculate the difference in the number of Occupied Housing Units from year to year and print it. The difference must be calculated for the consecutive years such as 2008-2009, 2009-2010 etc. Finally, print the values in the ascending order.\n",
        "\n",
        "(2) (10 pts) For all the years, calculate the percentage of housing units which are vacant an occupied. Print the results in the following format:\n",
        "\n",
        "Year Vacant Housing Units Occupied Housing Units\n",
        "\n",
        "    2008  30%   70%                          \n",
        "\t2009 ----- -----\n",
        "\t2010 ----- -----\n",
        "    2011 ----- -----\n",
        "\t2012 ----- -----\n",
        "    2013 ----- -----\n",
        "\t2014 ----- -----\n",
        "  \n",
        "  \n",
        "\n",
        "(3) (10 pts) Calculate and print the valued and years in which the highest number of housing units were vacant and occupied. Print the results in the following format:  \n",
        "\n",
        "                              Year\tValue\n",
        "\tVacant Housing Units\t  -----   -----\n",
        "\tOccupied Housing Units\t-----   -----\n",
        "\n",
        "(4) (10 pts) Calculate the harmonic mean of the total housing units and print it out. You can find the information about harmonic mean here: https://ncalculators.com/statistics/harmonic-mean-calculator.htm"
      ]
    },
    {
      "cell_type": "code",
      "execution_count": 106,
      "metadata": {
        "colab": {
          "base_uri": "https://localhost:8080/"
        },
        "id": "lqGYuHBhcsRH",
        "outputId": "863c32bb-2b4f-4ce4-d4ba-d31737f6e7ab"
      },
      "outputs": [
        {
          "output_type": "execute_result",
          "data": {
            "text/plain": [
              "[-5091, -2622, -1565, -1404, 303, 795]"
            ]
          },
          "metadata": {},
          "execution_count": 106
        }
      ],
      "source": [
        "# Your code here\n",
        "import pandas as pd\n",
        "import statistics\n",
        "df_main = pd.read_csv('lab_assignment_02_denton_housing.csv')\n",
        "occupied = df_main[df_main['title_field'] == 'Occupied Housing Units'].sort_values(by=['year'])  # slicing\n",
        "difference=[]\n",
        "for i in range(len(occupied)-1):\n",
        "  x = list(occupied['value'].values)[i] - list(occupied['value'].values)[i+1]\n",
        "  difference.append(x)    #appending the difference to list\n",
        "difference = sorted(difference)    # sorting in ascending order\n",
        "difference"
      ]
    },
    {
      "cell_type": "markdown",
      "source": [
        "##3.2"
      ],
      "metadata": {
        "id": "OVkzZAOYftVw"
      }
    },
    {
      "cell_type": "code",
      "source": [
        "unique_years = sorted(list(df_main['year'].unique()))\n",
        "occupied = df_main[df_main['title_field'] == 'Occupied Housing Units'].sort_values(by=['year'])\n",
        "vacant = df_main[df_main['title_field'] == 'Vacant Housing Units'].sort_values(by=['year'])\n",
        "total = df_main[df_main['title_field'] == 'Total Housing Units'].sort_values(by=['year'])\n",
        "\n",
        "df_new = pd.DataFrame()\n",
        "df_new['year'] = unique_years\n",
        "df_new['Vacant House'] = vacant['value'].values\n",
        "df_new['Occupied House'] = occupied['value'].values\n",
        "df_new['Total House'] = total['value'].values\n",
        "for i in range(len(df_new)):\n",
        "  print(df_new['year'][i],\"\\t\",round((df_new['Vacant House'][i] * 100) /(df_new['Total House'][i]),2),\"%\\t\",round((df_new['Occupied House'][i] * 100) /(df_new['Total House'][i]),2),\"%\",sep='')"
      ],
      "metadata": {
        "colab": {
          "base_uri": "https://localhost:8080/"
        },
        "id": "WY-quzVXfDda",
        "outputId": "2a11a97d-3219-4513-938d-5e378686d307"
      },
      "execution_count": 116,
      "outputs": [
        {
          "output_type": "stream",
          "name": "stdout",
          "text": [
            "2008\t10.88%\t89.12%\n",
            "2009\t9.07%\t90.93%\n",
            "2010\t8.14%\t91.86%\n",
            "2011\t9.38%\t90.62%\n",
            "2012\t6.68%\t93.32%\n",
            "2013\t8.8%\t91.2%\n",
            "2014\t5.73%\t94.27%\n"
          ]
        }
      ]
    },
    {
      "cell_type": "markdown",
      "source": [
        "##3.3"
      ],
      "metadata": {
        "id": "ZMxQRQDofvRK"
      }
    },
    {
      "cell_type": "code",
      "source": [
        "print(df_main[df_main['value']==max(vacant['value'])]\n",
        "      .append(df_main[df_main['value']==max(occupied['value'])])\n",
        "      [['title_field','year','value']])"
      ],
      "metadata": {
        "colab": {
          "base_uri": "https://localhost:8080/"
        },
        "id": "qXw0CnCYsyps",
        "outputId": "7ef482af-5200-4073-9164-8f06595baacc"
      },
      "execution_count": 108,
      "outputs": [
        {
          "output_type": "stream",
          "name": "stdout",
          "text": [
            "               title_field  year  value\n",
            "19    Vacant Housing Units  2008   4483\n",
            "2   Occupied Housing Units  2014  46295\n"
          ]
        }
      ]
    },
    {
      "cell_type": "markdown",
      "source": [
        "##3.4"
      ],
      "metadata": {
        "id": "eMKvuhftfw8I"
      }
    },
    {
      "cell_type": "code",
      "source": [
        "print(statistics.harmonic_mean(list(df_main[df_main['title_field'] == 'Total Housing Units'].value)))"
      ],
      "metadata": {
        "colab": {
          "base_uri": "https://localhost:8080/"
        },
        "id": "mN76EmYqfxow",
        "outputId": "85fe0b41-c8a5-49fd-bbb2-56f6ce695c07"
      },
      "execution_count": 109,
      "outputs": [
        {
          "output_type": "stream",
          "name": "stdout",
          "text": [
            "44398.28543969185\n"
          ]
        }
      ]
    }
  ],
  "metadata": {
    "colab": {
      "collapsed_sections": [],
      "name": "lab_assignment_02_sairam_mandarapu.ipynb",
      "provenance": []
    },
    "kernelspec": {
      "display_name": "Python 3 (ipykernel)",
      "language": "python",
      "name": "python3"
    },
    "language_info": {
      "codemirror_mode": {
        "name": "ipython",
        "version": 3
      },
      "file_extension": ".py",
      "mimetype": "text/x-python",
      "name": "python",
      "nbconvert_exporter": "python",
      "pygments_lexer": "ipython3",
      "version": "3.9.12"
    }
  },
  "nbformat": 4,
  "nbformat_minor": 0
}