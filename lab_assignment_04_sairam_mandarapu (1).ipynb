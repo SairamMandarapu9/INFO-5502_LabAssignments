{
  "cells": [
    {
      "cell_type": "markdown",
      "metadata": {
        "id": "mvu6AxkjcAxe"
      },
      "source": [
        "## The fourth Lab-assignment (07/26/2022 11:59'AM' - 07/29/2022 11:59PM, 50 points in total)"
      ]
    },
    {
      "cell_type": "markdown",
      "metadata": {
        "id": "4J0UOenAcAxl"
      },
      "source": [
        "The purpose of this exercise is to understand Exploratory Data Analysis, we will practice the EDA by working on multiple datasets which have different characteristics."
      ]
    },
    {
      "cell_type": "markdown",
      "metadata": {
        "id": "OuQhFE9pcAxm"
      },
      "source": [
        "Question 1 (10 points). Understand a text corpus for domain-specific text classification. Download the dataset from the following link: https://osf.io/8mjcy/ . Conduct EDA of the dataset from the following aspects:\n",
        "\n",
        "(1) How many categories in total?\n",
        "\n",
        "(2) How many documents under each category?\n"
      ]
    },
    {
      "cell_type": "code",
      "execution_count": 120,
      "metadata": {
        "id": "xGIZVaSPcAxn"
      },
      "outputs": [],
      "source": [
        "# Your answer here (code + explanation):\n",
        "import zipfile\n",
        "zip = zipfile.ZipFile(\"preprocessed_cases[cases_29404].zip\")"
      ]
    },
    {
      "cell_type": "markdown",
      "source": [
        "##1.1"
      ],
      "metadata": {
        "id": "-gHIcIbiVFqb"
      }
    },
    {
      "cell_type": "code",
      "source": [
        "ziplist=zip.namelist()\n",
        "cat=[]\n",
        "for i in ziplist:\n",
        "  x=i.split('/')\n",
        "  cat.append(x[1])\n",
        "len(set(cat))\n",
        "  "
      ],
      "metadata": {
        "colab": {
          "base_uri": "https://localhost:8080/"
        },
        "id": "vKpumZ07Ra38",
        "outputId": "b88c2e4f-3b21-403c-e8ce-24ff3e3ee2a5"
      },
      "execution_count": 121,
      "outputs": [
        {
          "output_type": "execute_result",
          "data": {
            "text/plain": [
              "77"
            ]
          },
          "metadata": {},
          "execution_count": 121
        }
      ]
    },
    {
      "cell_type": "markdown",
      "source": [
        "##1.2"
      ],
      "metadata": {
        "id": "YZHzeqNSVQYQ"
      }
    },
    {
      "cell_type": "code",
      "source": [
        "for i in range(len(set(cat))+1):\n",
        "  num=[]\n",
        "  for j in ziplist:\n",
        "    x=j.split('/')\n",
        "    if x[1]==i:\n",
        "      num.append(x[2])\n",
        "    cat.append(x[1])\n",
        "len(set(num))"
      ],
      "metadata": {
        "colab": {
          "base_uri": "https://localhost:8080/"
        },
        "id": "tODVmU9kVRiO",
        "outputId": "0c9de9c7-342d-43c9-8b5c-fbcf529decdb"
      },
      "execution_count": 122,
      "outputs": [
        {
          "output_type": "execute_result",
          "data": {
            "text/plain": [
              "0"
            ]
          },
          "metadata": {},
          "execution_count": 122
        }
      ]
    },
    {
      "cell_type": "markdown",
      "metadata": {
        "id": "fFImPRngcAxo"
      },
      "source": [
        "Question 2 (40 points). Continue practicing how to do simple exploratory data analysis with Python. The dataset that has been used in this question is called Student Academics Performance Data Set, which can be downloaded at: https://github.com/suthapalliuday/INFO5502-Summer2022/blob/main/datasets/lab-assignment-04-student-performance.csv . Please conduct the following analysis:\n",
        "\n",
        "(1) Description of all the columns: for each colmun, count number of rows, number of unqiue element, the frequency of each unqiue element. \n",
        "\n",
        "\n",
        "(2)  Visualize the count for each value in the 'Study Hours' column. Note: Study Hours values comes from this >= 6 hours Good >= 4 hours Average < 2 hours Poor.\n",
        "\n",
        "(3) Using factorplot to show the relationship between numerical and categorical value. Please use figure to show relation between [Study Hours] and [End Semester Percentage]. Percentage is calculated based on the following:\n",
        "\n",
        "if percentage >=80 then Best\n",
        "If percentage >= 60 but less than 80 then Very Good\n",
        "If percentage >= 45 but less than 60 then Good\n",
        "If Percentage >= 30 but less than 45 then Pass\n",
        "If Percentage < 30 then Fail\n",
        "\n",
        "(4) Get the correlation from the data, then plug it to heatmap function and show it as following:\n"
      ]
    },
    {
      "cell_type": "markdown",
      "metadata": {
        "id": "vGCwmjk9cAxp"
      },
      "source": [
        "# Your answer here (code + explanation):\n",
        "\n",
        "\n",
        "\n",
        "\n",
        "\n",
        "\n"
      ]
    },
    {
      "cell_type": "code",
      "source": [
        "import numpy as np\n",
        "import pandas as pd\n",
        "import matplotlib.pyplot as plt\n",
        "import seaborn as sns\n",
        "\n",
        "data=pd.read_csv(\"lab-assignment-04-student-performance.csv\")\n",
        "data.head()"
      ],
      "metadata": {
        "colab": {
          "base_uri": "https://localhost:8080/",
          "height": 299
        },
        "id": "GgXfxBSj1AzI",
        "outputId": "6f36b7c7-be60-49b2-809a-5fc753575235"
      },
      "execution_count": 123,
      "outputs": [
        {
          "output_type": "execute_result",
          "data": {
            "text/plain": [
              "  ge   cst   tnp   twp iap   esp arr         ms ls    as  ...  fq  mq  \\\n",
              "0  F     G  Good  Good  Vg  Good   Y  Unmarried  V  Paid  ...  Um  10   \n",
              "1  M   OBC    Vg    Vg  Vg    Vg   N  Unmarried  V  Paid  ...  Um  Il   \n",
              "2  F   OBC  Good  Good  Vg  Good   N  Unmarried  V  Paid  ...  12  10   \n",
              "3  M  MOBC  Pass  Good  Vg  Good   N  Unmarried  V  Paid  ...  12  Um   \n",
              "4  M     G  Good  Good  Vg    Vg   N  Unmarried  V  Paid  ...  10  12   \n",
              "\n",
              "         fo         mo       nf       sh       ss   me       tt      atd  \n",
              "0    Farmer  Housewife    Large     Poor     Govt  Asm    Small     Good  \n",
              "1   Service    Service    Small     Poor     Govt  Asm  Average  Average  \n",
              "2   Service  Housewife  Average  Average     Govt  Asm    Large     Good  \n",
              "3  Business   Business    Large     Poor     Govt  Asm  Average  Average  \n",
              "4   Service  Housewife    Large     Poor  Private  Asm    Small     Good  \n",
              "\n",
              "[5 rows x 22 columns]"
            ],
            "text/html": [
              "\n",
              "  <div id=\"df-4ce10e68-1381-4b69-b186-784431e0a15b\">\n",
              "    <div class=\"colab-df-container\">\n",
              "      <div>\n",
              "<style scoped>\n",
              "    .dataframe tbody tr th:only-of-type {\n",
              "        vertical-align: middle;\n",
              "    }\n",
              "\n",
              "    .dataframe tbody tr th {\n",
              "        vertical-align: top;\n",
              "    }\n",
              "\n",
              "    .dataframe thead th {\n",
              "        text-align: right;\n",
              "    }\n",
              "</style>\n",
              "<table border=\"1\" class=\"dataframe\">\n",
              "  <thead>\n",
              "    <tr style=\"text-align: right;\">\n",
              "      <th></th>\n",
              "      <th>ge</th>\n",
              "      <th>cst</th>\n",
              "      <th>tnp</th>\n",
              "      <th>twp</th>\n",
              "      <th>iap</th>\n",
              "      <th>esp</th>\n",
              "      <th>arr</th>\n",
              "      <th>ms</th>\n",
              "      <th>ls</th>\n",
              "      <th>as</th>\n",
              "      <th>...</th>\n",
              "      <th>fq</th>\n",
              "      <th>mq</th>\n",
              "      <th>fo</th>\n",
              "      <th>mo</th>\n",
              "      <th>nf</th>\n",
              "      <th>sh</th>\n",
              "      <th>ss</th>\n",
              "      <th>me</th>\n",
              "      <th>tt</th>\n",
              "      <th>atd</th>\n",
              "    </tr>\n",
              "  </thead>\n",
              "  <tbody>\n",
              "    <tr>\n",
              "      <th>0</th>\n",
              "      <td>F</td>\n",
              "      <td>G</td>\n",
              "      <td>Good</td>\n",
              "      <td>Good</td>\n",
              "      <td>Vg</td>\n",
              "      <td>Good</td>\n",
              "      <td>Y</td>\n",
              "      <td>Unmarried</td>\n",
              "      <td>V</td>\n",
              "      <td>Paid</td>\n",
              "      <td>...</td>\n",
              "      <td>Um</td>\n",
              "      <td>10</td>\n",
              "      <td>Farmer</td>\n",
              "      <td>Housewife</td>\n",
              "      <td>Large</td>\n",
              "      <td>Poor</td>\n",
              "      <td>Govt</td>\n",
              "      <td>Asm</td>\n",
              "      <td>Small</td>\n",
              "      <td>Good</td>\n",
              "    </tr>\n",
              "    <tr>\n",
              "      <th>1</th>\n",
              "      <td>M</td>\n",
              "      <td>OBC</td>\n",
              "      <td>Vg</td>\n",
              "      <td>Vg</td>\n",
              "      <td>Vg</td>\n",
              "      <td>Vg</td>\n",
              "      <td>N</td>\n",
              "      <td>Unmarried</td>\n",
              "      <td>V</td>\n",
              "      <td>Paid</td>\n",
              "      <td>...</td>\n",
              "      <td>Um</td>\n",
              "      <td>Il</td>\n",
              "      <td>Service</td>\n",
              "      <td>Service</td>\n",
              "      <td>Small</td>\n",
              "      <td>Poor</td>\n",
              "      <td>Govt</td>\n",
              "      <td>Asm</td>\n",
              "      <td>Average</td>\n",
              "      <td>Average</td>\n",
              "    </tr>\n",
              "    <tr>\n",
              "      <th>2</th>\n",
              "      <td>F</td>\n",
              "      <td>OBC</td>\n",
              "      <td>Good</td>\n",
              "      <td>Good</td>\n",
              "      <td>Vg</td>\n",
              "      <td>Good</td>\n",
              "      <td>N</td>\n",
              "      <td>Unmarried</td>\n",
              "      <td>V</td>\n",
              "      <td>Paid</td>\n",
              "      <td>...</td>\n",
              "      <td>12</td>\n",
              "      <td>10</td>\n",
              "      <td>Service</td>\n",
              "      <td>Housewife</td>\n",
              "      <td>Average</td>\n",
              "      <td>Average</td>\n",
              "      <td>Govt</td>\n",
              "      <td>Asm</td>\n",
              "      <td>Large</td>\n",
              "      <td>Good</td>\n",
              "    </tr>\n",
              "    <tr>\n",
              "      <th>3</th>\n",
              "      <td>M</td>\n",
              "      <td>MOBC</td>\n",
              "      <td>Pass</td>\n",
              "      <td>Good</td>\n",
              "      <td>Vg</td>\n",
              "      <td>Good</td>\n",
              "      <td>N</td>\n",
              "      <td>Unmarried</td>\n",
              "      <td>V</td>\n",
              "      <td>Paid</td>\n",
              "      <td>...</td>\n",
              "      <td>12</td>\n",
              "      <td>Um</td>\n",
              "      <td>Business</td>\n",
              "      <td>Business</td>\n",
              "      <td>Large</td>\n",
              "      <td>Poor</td>\n",
              "      <td>Govt</td>\n",
              "      <td>Asm</td>\n",
              "      <td>Average</td>\n",
              "      <td>Average</td>\n",
              "    </tr>\n",
              "    <tr>\n",
              "      <th>4</th>\n",
              "      <td>M</td>\n",
              "      <td>G</td>\n",
              "      <td>Good</td>\n",
              "      <td>Good</td>\n",
              "      <td>Vg</td>\n",
              "      <td>Vg</td>\n",
              "      <td>N</td>\n",
              "      <td>Unmarried</td>\n",
              "      <td>V</td>\n",
              "      <td>Paid</td>\n",
              "      <td>...</td>\n",
              "      <td>10</td>\n",
              "      <td>12</td>\n",
              "      <td>Service</td>\n",
              "      <td>Housewife</td>\n",
              "      <td>Large</td>\n",
              "      <td>Poor</td>\n",
              "      <td>Private</td>\n",
              "      <td>Asm</td>\n",
              "      <td>Small</td>\n",
              "      <td>Good</td>\n",
              "    </tr>\n",
              "  </tbody>\n",
              "</table>\n",
              "<p>5 rows × 22 columns</p>\n",
              "</div>\n",
              "      <button class=\"colab-df-convert\" onclick=\"convertToInteractive('df-4ce10e68-1381-4b69-b186-784431e0a15b')\"\n",
              "              title=\"Convert this dataframe to an interactive table.\"\n",
              "              style=\"display:none;\">\n",
              "        \n",
              "  <svg xmlns=\"http://www.w3.org/2000/svg\" height=\"24px\"viewBox=\"0 0 24 24\"\n",
              "       width=\"24px\">\n",
              "    <path d=\"M0 0h24v24H0V0z\" fill=\"none\"/>\n",
              "    <path d=\"M18.56 5.44l.94 2.06.94-2.06 2.06-.94-2.06-.94-.94-2.06-.94 2.06-2.06.94zm-11 1L8.5 8.5l.94-2.06 2.06-.94-2.06-.94L8.5 2.5l-.94 2.06-2.06.94zm10 10l.94 2.06.94-2.06 2.06-.94-2.06-.94-.94-2.06-.94 2.06-2.06.94z\"/><path d=\"M17.41 7.96l-1.37-1.37c-.4-.4-.92-.59-1.43-.59-.52 0-1.04.2-1.43.59L10.3 9.45l-7.72 7.72c-.78.78-.78 2.05 0 2.83L4 21.41c.39.39.9.59 1.41.59.51 0 1.02-.2 1.41-.59l7.78-7.78 2.81-2.81c.8-.78.8-2.07 0-2.86zM5.41 20L4 18.59l7.72-7.72 1.47 1.35L5.41 20z\"/>\n",
              "  </svg>\n",
              "      </button>\n",
              "      \n",
              "  <style>\n",
              "    .colab-df-container {\n",
              "      display:flex;\n",
              "      flex-wrap:wrap;\n",
              "      gap: 12px;\n",
              "    }\n",
              "\n",
              "    .colab-df-convert {\n",
              "      background-color: #E8F0FE;\n",
              "      border: none;\n",
              "      border-radius: 50%;\n",
              "      cursor: pointer;\n",
              "      display: none;\n",
              "      fill: #1967D2;\n",
              "      height: 32px;\n",
              "      padding: 0 0 0 0;\n",
              "      width: 32px;\n",
              "    }\n",
              "\n",
              "    .colab-df-convert:hover {\n",
              "      background-color: #E2EBFA;\n",
              "      box-shadow: 0px 1px 2px rgba(60, 64, 67, 0.3), 0px 1px 3px 1px rgba(60, 64, 67, 0.15);\n",
              "      fill: #174EA6;\n",
              "    }\n",
              "\n",
              "    [theme=dark] .colab-df-convert {\n",
              "      background-color: #3B4455;\n",
              "      fill: #D2E3FC;\n",
              "    }\n",
              "\n",
              "    [theme=dark] .colab-df-convert:hover {\n",
              "      background-color: #434B5C;\n",
              "      box-shadow: 0px 1px 3px 1px rgba(0, 0, 0, 0.15);\n",
              "      filter: drop-shadow(0px 1px 2px rgba(0, 0, 0, 0.3));\n",
              "      fill: #FFFFFF;\n",
              "    }\n",
              "  </style>\n",
              "\n",
              "      <script>\n",
              "        const buttonEl =\n",
              "          document.querySelector('#df-4ce10e68-1381-4b69-b186-784431e0a15b button.colab-df-convert');\n",
              "        buttonEl.style.display =\n",
              "          google.colab.kernel.accessAllowed ? 'block' : 'none';\n",
              "\n",
              "        async function convertToInteractive(key) {\n",
              "          const element = document.querySelector('#df-4ce10e68-1381-4b69-b186-784431e0a15b');\n",
              "          const dataTable =\n",
              "            await google.colab.kernel.invokeFunction('convertToInteractive',\n",
              "                                                     [key], {});\n",
              "          if (!dataTable) return;\n",
              "\n",
              "          const docLinkHtml = 'Like what you see? Visit the ' +\n",
              "            '<a target=\"_blank\" href=https://colab.research.google.com/notebooks/data_table.ipynb>data table notebook</a>'\n",
              "            + ' to learn more about interactive tables.';\n",
              "          element.innerHTML = '';\n",
              "          dataTable['output_type'] = 'display_data';\n",
              "          await google.colab.output.renderOutput(dataTable, element);\n",
              "          const docLink = document.createElement('div');\n",
              "          docLink.innerHTML = docLinkHtml;\n",
              "          element.appendChild(docLink);\n",
              "        }\n",
              "      </script>\n",
              "    </div>\n",
              "  </div>\n",
              "  "
            ]
          },
          "metadata": {},
          "execution_count": 123
        }
      ]
    },
    {
      "cell_type": "markdown",
      "source": [
        "##2.1"
      ],
      "metadata": {
        "id": "ApF2OFVt19B2"
      }
    },
    {
      "cell_type": "code",
      "source": [
        "for i in data.columns:       #getting the column descriptions\n",
        "  print('Column Name: ',i,'\\nDescription: \\n',data[i].describe(),'\\nNumber of Rows: ',len(data[i]),'\\nUnique Elements: ',data[i].unique(),'\\nElements Frequency: \\n',data[i].value_counts())\n"
      ],
      "metadata": {
        "colab": {
          "base_uri": "https://localhost:8080/"
        },
        "id": "7PQfK7yI1ZW5",
        "outputId": "ad4d193f-5b09-473f-cee2-de989622e214"
      },
      "execution_count": 124,
      "outputs": [
        {
          "output_type": "stream",
          "name": "stdout",
          "text": [
            "Column Name:  ge \n",
            "Description: \n",
            " count     131\n",
            "unique      2\n",
            "top         M\n",
            "freq       72\n",
            "Name: ge, dtype: object \n",
            "Number of Rows:  131 \n",
            "Unique Elements:  ['F' 'M'] \n",
            "Elements Frequency: \n",
            " M    72\n",
            "F    59\n",
            "Name: ge, dtype: int64\n",
            "Column Name:  cst \n",
            "Description: \n",
            " count     131\n",
            "unique      5\n",
            "top       OBC\n",
            "freq       57\n",
            "Name: cst, dtype: object \n",
            "Number of Rows:  131 \n",
            "Unique Elements:  ['G' 'OBC' 'MOBC' 'ST' 'SC'] \n",
            "Elements Frequency: \n",
            " OBC     57\n",
            "G       44\n",
            "ST      20\n",
            "MOBC     6\n",
            "SC       4\n",
            "Name: cst, dtype: int64\n",
            "Column Name:  tnp \n",
            "Description: \n",
            " count      131\n",
            "unique       4\n",
            "top       Good\n",
            "freq        59\n",
            "Name: tnp, dtype: object \n",
            "Number of Rows:  131 \n",
            "Unique Elements:  ['Good' 'Vg' 'Pass' 'Best'] \n",
            "Elements Frequency: \n",
            " Good    59\n",
            "Vg      38\n",
            "Pass    25\n",
            "Best     9\n",
            "Name: tnp, dtype: int64\n",
            "Column Name:  twp \n",
            "Description: \n",
            " count      131\n",
            "unique       4\n",
            "top       Good\n",
            "freq        65\n",
            "Name: twp, dtype: object \n",
            "Number of Rows:  131 \n",
            "Unique Elements:  ['Good' 'Vg' 'Pass' 'Best'] \n",
            "Elements Frequency: \n",
            " Good    65\n",
            "Vg      44\n",
            "Pass    17\n",
            "Best     5\n",
            "Name: twp, dtype: int64\n",
            "Column Name:  iap \n",
            "Description: \n",
            " count     131\n",
            "unique      4\n",
            "top        Vg\n",
            "freq       63\n",
            "Name: iap, dtype: object \n",
            "Number of Rows:  131 \n",
            "Unique Elements:  ['Vg' 'Good' 'Pass' 'Best'] \n",
            "Elements Frequency: \n",
            " Vg      63\n",
            "Good    53\n",
            "Best     8\n",
            "Pass     7\n",
            "Name: iap, dtype: int64\n",
            "Column Name:  esp \n",
            "Description: \n",
            " count      131\n",
            "unique       4\n",
            "top       Good\n",
            "freq        54\n",
            "Name: esp, dtype: object \n",
            "Number of Rows:  131 \n",
            "Unique Elements:  ['Good' 'Vg' 'Best' 'Pass'] \n",
            "Elements Frequency: \n",
            " Good    54\n",
            "Vg      42\n",
            "Pass    27\n",
            "Best     8\n",
            "Name: esp, dtype: int64\n",
            "Column Name:  arr \n",
            "Description: \n",
            " count     131\n",
            "unique      2\n",
            "top         N\n",
            "freq       78\n",
            "Name: arr, dtype: object \n",
            "Number of Rows:  131 \n",
            "Unique Elements:  ['Y' 'N'] \n",
            "Elements Frequency: \n",
            " N    78\n",
            "Y    53\n",
            "Name: arr, dtype: int64\n",
            "Column Name:  ms \n",
            "Description: \n",
            " count           131\n",
            "unique            1\n",
            "top       Unmarried\n",
            "freq            131\n",
            "Name: ms, dtype: object \n",
            "Number of Rows:  131 \n",
            "Unique Elements:  ['Unmarried'] \n",
            "Elements Frequency: \n",
            " Unmarried    131\n",
            "Name: ms, dtype: int64\n",
            "Column Name:  ls \n",
            "Description: \n",
            " count     131\n",
            "unique      2\n",
            "top         V\n",
            "freq       92\n",
            "Name: ls, dtype: object \n",
            "Number of Rows:  131 \n",
            "Unique Elements:  ['V' 'T'] \n",
            "Elements Frequency: \n",
            " V    92\n",
            "T    39\n",
            "Name: ls, dtype: int64\n",
            "Column Name:  as \n",
            "Description: \n",
            " count      131\n",
            "unique       2\n",
            "top       Paid\n",
            "freq        76\n",
            "Name: as, dtype: object \n",
            "Number of Rows:  131 \n",
            "Unique Elements:  ['Paid' 'Free'] \n",
            "Elements Frequency: \n",
            " Paid    76\n",
            "Free    55\n",
            "Name: as, dtype: int64\n",
            "Column Name:  fmi \n",
            "Description: \n",
            " count        131\n",
            "unique         5\n",
            "top       Medium\n",
            "freq          63\n",
            "Name: fmi, dtype: object \n",
            "Number of Rows:  131 \n",
            "Unique Elements:  ['Medium' 'Low' 'Am' 'High' 'Vh'] \n",
            "Elements Frequency: \n",
            " Medium    63\n",
            "Am        27\n",
            "Low       20\n",
            "High      15\n",
            "Vh         6\n",
            "Name: fmi, dtype: int64\n",
            "Column Name:  fs \n",
            "Description: \n",
            " count       131\n",
            "unique        3\n",
            "top       Small\n",
            "freq         89\n",
            "Name: fs, dtype: object \n",
            "Number of Rows:  131 \n",
            "Unique Elements:  ['Average' 'Small' 'Large'] \n",
            "Elements Frequency: \n",
            " Small      89\n",
            "Average    40\n",
            "Large       2\n",
            "Name: fs, dtype: int64\n",
            "Column Name:  fq \n",
            "Description: \n",
            " count     131\n",
            "unique      6\n",
            "top        Um\n",
            "freq       40\n",
            "Name: fq, dtype: object \n",
            "Number of Rows:  131 \n",
            "Unique Elements:  ['Um' '12' '10' 'Il' 'Degree' 'Pg'] \n",
            "Elements Frequency: \n",
            " Um        40\n",
            "10        23\n",
            "12        22\n",
            "Il        20\n",
            "Degree    20\n",
            "Pg         6\n",
            "Name: fq, dtype: int64\n",
            "Column Name:  mq \n",
            "Description: \n",
            " count     131\n",
            "unique      6\n",
            "top        Um\n",
            "freq       52\n",
            "Name: mq, dtype: object \n",
            "Number of Rows:  131 \n",
            "Unique Elements:  ['10' 'Il' 'Um' '12' 'Degree' 'Pg'] \n",
            "Elements Frequency: \n",
            " Um        52\n",
            "Il        27\n",
            "10        25\n",
            "12        17\n",
            "Degree     7\n",
            "Pg         3\n",
            "Name: mq, dtype: int64\n",
            "Column Name:  fo \n",
            "Description: \n",
            " count         131\n",
            "unique          5\n",
            "top       Service\n",
            "freq           38\n",
            "Name: fo, dtype: object \n",
            "Number of Rows:  131 \n",
            "Unique Elements:  ['Farmer' 'Service' 'Business' 'Others' 'Retired'] \n",
            "Elements Frequency: \n",
            " Service     38\n",
            "Business    34\n",
            "Others      29\n",
            "Farmer      27\n",
            "Retired      3\n",
            "Name: fo, dtype: int64\n",
            "Column Name:  mo \n",
            "Description: \n",
            " count           131\n",
            "unique            5\n",
            "top       Housewife\n",
            "freq            115\n",
            "Name: mo, dtype: object \n",
            "Number of Rows:  131 \n",
            "Unique Elements:  ['Housewife' 'Service' 'Business' 'Retired' 'Others'] \n",
            "Elements Frequency: \n",
            " Housewife    115\n",
            "Service       12\n",
            "Others         2\n",
            "Business       1\n",
            "Retired        1\n",
            "Name: mo, dtype: int64\n",
            "Column Name:  nf \n",
            "Description: \n",
            " count       131\n",
            "unique        3\n",
            "top       Large\n",
            "freq         58\n",
            "Name: nf, dtype: object \n",
            "Number of Rows:  131 \n",
            "Unique Elements:  ['Large' 'Small' 'Average'] \n",
            "Elements Frequency: \n",
            " Large      58\n",
            "Average    43\n",
            "Small      30\n",
            "Name: nf, dtype: int64\n",
            "Column Name:  sh \n",
            "Description: \n",
            " count         131\n",
            "unique          3\n",
            "top       Average\n",
            "freq           59\n",
            "Name: sh, dtype: object \n",
            "Number of Rows:  131 \n",
            "Unique Elements:  ['Poor' 'Average' 'Good'] \n",
            "Elements Frequency: \n",
            " Average    59\n",
            "Poor       45\n",
            "Good       27\n",
            "Name: sh, dtype: int64\n",
            "Column Name:  ss \n",
            "Description: \n",
            " count      131\n",
            "unique       2\n",
            "top       Govt\n",
            "freq        91\n",
            "Name: ss, dtype: object \n",
            "Number of Rows:  131 \n",
            "Unique Elements:  ['Govt' 'Private'] \n",
            "Elements Frequency: \n",
            " Govt       91\n",
            "Private    40\n",
            "Name: ss, dtype: int64\n",
            "Column Name:  me \n",
            "Description: \n",
            " count     131\n",
            "unique      4\n",
            "top       Eng\n",
            "freq       62\n",
            "Name: me, dtype: object \n",
            "Number of Rows:  131 \n",
            "Unique Elements:  ['Asm' 'Eng' 'Hin' 'Ben'] \n",
            "Elements Frequency: \n",
            " Eng    62\n",
            "Asm    60\n",
            "Hin     7\n",
            "Ben     2\n",
            "Name: me, dtype: int64\n",
            "Column Name:  tt \n",
            "Description: \n",
            " count       131\n",
            "unique        3\n",
            "top       Small\n",
            "freq         78\n",
            "Name: tt, dtype: object \n",
            "Number of Rows:  131 \n",
            "Unique Elements:  ['Small' 'Average' 'Large'] \n",
            "Elements Frequency: \n",
            " Small      78\n",
            "Average    43\n",
            "Large      10\n",
            "Name: tt, dtype: int64\n",
            "Column Name:  atd \n",
            "Description: \n",
            " count      131\n",
            "unique       3\n",
            "top       Good\n",
            "freq        56\n",
            "Name: atd, dtype: object \n",
            "Number of Rows:  131 \n",
            "Unique Elements:  ['Good' 'Average' 'Poor'] \n",
            "Elements Frequency: \n",
            " Good       56\n",
            "Average    47\n",
            "Poor       28\n",
            "Name: atd, dtype: int64\n"
          ]
        }
      ]
    },
    {
      "cell_type": "markdown",
      "source": [
        "##2.2"
      ],
      "metadata": {
        "id": "gLkzzbnt8NHy"
      }
    },
    {
      "cell_type": "code",
      "source": [
        "data['sh'].value_counts().plot(kind = 'bar')   #generating barchart for value counts in sh column"
      ],
      "metadata": {
        "colab": {
          "base_uri": "https://localhost:8080/",
          "height": 313
        },
        "id": "bmYQI_xu5LKX",
        "outputId": "d24a1189-ee9b-48eb-dc26-521a03ac1d2e"
      },
      "execution_count": 125,
      "outputs": [
        {
          "output_type": "execute_result",
          "data": {
            "text/plain": [
              "<matplotlib.axes._subplots.AxesSubplot at 0x7f1aed019e90>"
            ]
          },
          "metadata": {},
          "execution_count": 125
        },
        {
          "output_type": "display_data",
          "data": {
            "text/plain": [
              "<Figure size 432x288 with 1 Axes>"
            ],
            "image/png": "[encoded data removed]"
          },
          "metadata": {
            "needs_background": "light"
          }
        }
      ]
    },
    {
      "cell_type": "code",
      "source": [
        "#Label Encoding the Categorical variables to Numerical values\n",
        "data['ge']=data['ge'].map({\"M\":1,\"F\":0})\n",
        "data['arr']=data['arr'].map({\"N\":1,\"Y\":0})\n",
        "data['ls']=data['ls'].map({\"V\":1,\"T\":0})\n",
        "data['as']=data['as'].map({\"Paid\":1,\"Free\":0})\n",
        "data['ss']=data['ss'].map({\"Govt\":1,\"Private\":0})\n",
        "data['sh']=data.sh.map({\"Poor\": 0, \"Average\": 1,\"Good\":2})\n",
        "data['tnp']=data.tnp.map({\"Fail\": 0, \"Pass\": 1, \"Good\": 2, \"Vg\": 3,\"Best\": 4 })\n",
        "data['twp']=data.twp.map({\"Fail\": 0, \"Pass\": 1, \"Good\": 2, \"Vg\": 3,\"Best\": 4 })\n",
        "data['iap']=data.iap.map({\"Fail\": 0, \"Pass\": 1, \"Good\": 2, \"Vg\": 3,\"Best\": 4 })\n",
        "data['esp']=data.esp.map({\"Fail\": 0, \"Pass\": 1, \"Good\": 2, \"Vg\": 3,\"Best\": 4 })\n",
        "data['atd']=data.atd.map({\"Poor\": 0, \"Average\": 1,\"Good\":2})\n",
        "data['fs']=data.fs.map({\"Small\":0,\"Average\":1,\"Large\":2})\n",
        "data['nf']=data.nf.map({\"Small\":0,\"Average\":1,\"Large\":2})\n",
        "data['tt']=data.tt.map({\"Small\":0,\"Average\":1,\"Large\":2})"
      ],
      "metadata": {
        "id": "yN3k1Z-iGYLA"
      },
      "execution_count": 126,
      "outputs": []
    },
    {
      "cell_type": "markdown",
      "source": [
        "##2.3"
      ],
      "metadata": {
        "id": "OO1Ue6Le8Osm"
      }
    },
    {
      "cell_type": "code",
      "source": [
        "sns.factorplot(x='sh',y='esp',data=data,size=8)  #generating factorplot using sh and esp columns"
      ],
      "metadata": {
        "colab": {
          "base_uri": "https://localhost:8080/",
          "height": 692
        },
        "id": "H3G3YmeHEGSB",
        "outputId": "54c58ed5-4d90-4fff-971d-5abcf7d21949"
      },
      "execution_count": 127,
      "outputs": [
        {
          "output_type": "stream",
          "name": "stderr",
          "text": [
            "/usr/local/lib/python3.7/dist-packages/seaborn/categorical.py:3717: UserWarning: The `factorplot` function has been renamed to `catplot`. The original name will be removed in a future release. Please update your code. Note that the default `kind` in `factorplot` (`'point'`) has changed `'strip'` in `catplot`.\n",
            "  warnings.warn(msg)\n",
            "/usr/local/lib/python3.7/dist-packages/seaborn/categorical.py:3723: UserWarning: The `size` parameter has been renamed to `height`; please update your code.\n",
            "  warnings.warn(msg, UserWarning)\n"
          ]
        },
        {
          "output_type": "execute_result",
          "data": {
            "text/plain": [
              "<seaborn.axisgrid.FacetGrid at 0x7f1ae77d41d0>"
            ]
          },
          "metadata": {},
          "execution_count": 127
        },
        {
          "output_type": "display_data",
          "data": {
            "text/plain": [
              "<Figure size 576x576 with 1 Axes>"
            ],
            "image/png": "[encoded data removed]"
          },
          "metadata": {
            "needs_background": "light"
          }
        }
      ]
    },
    {
      "cell_type": "markdown",
      "source": [
        "##2.4"
      ],
      "metadata": {
        "id": "xUMRpMOOAzsU"
      }
    },
    {
      "cell_type": "code",
      "source": [
        "plt.figure(figsize=(15,15)) \n",
        "sns.heatmap(data.corr(),annot=True,cmap='coolwarm')  #creating heatmap using corr() and heatmap() functions"
      ],
      "metadata": {
        "colab": {
          "base_uri": "https://localhost:8080/",
          "height": 884
        },
        "id": "wU9ILkq-GQJa",
        "outputId": "0924b173-5242-428a-c410-2922faecc72e"
      },
      "execution_count": 128,
      "outputs": [
        {
          "output_type": "execute_result",
          "data": {
            "text/plain": [
              "<matplotlib.axes._subplots.AxesSubplot at 0x7f1ade96bb50>"
            ]
          },
          "metadata": {},
          "execution_count": 128
        },
        {
          "output_type": "display_data",
          "data": {
            "text/plain": [
              "<Figure size 1080x1080 with 2 Axes>"
            ],
            "image/png": "[encoded data removed]"
          },
          "metadata": {
            "needs_background": "light"
          }
        }
      ]
    }
  ],
  "metadata": {
    "kernelspec": {
      "display_name": "Python 3 (ipykernel)",
      "language": "python",
      "name": "python3"
    },
    "language_info": {
      "codemirror_mode": {
        "name": "ipython",
        "version": 3
      },
      "file_extension": ".py",
      "mimetype": "text/x-python",
      "name": "python",
      "nbconvert_exporter": "python",
      "pygments_lexer": "ipython3",
      "version": "3.9.12"
    },
    "colab": {
      "name": "lab_assignment_04_sairam_mandarapu.ipynb",
      "provenance": [],
      "collapsed_sections": []
    }
  },
  "nbformat": 4,
  "nbformat_minor": 0
}