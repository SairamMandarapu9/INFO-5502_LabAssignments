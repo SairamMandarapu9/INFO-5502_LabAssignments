{
  "cells": [
    {
      "cell_type": "markdown",
      "metadata": {
        "id": "Y7tuyUpaS4r4"
      },
      "source": [
        "## The third Lab-assignment (07/22/2022 11:59'AM' - 07/26/2022 11:59PM, 50 points in total)"
      ]
    },
    {
      "cell_type": "markdown",
      "metadata": {
        "id": "bS-jZMaZS4r7"
      },
      "source": [
        "The purpose of this exercise is to understand users' information needs, then collect data from different sources for analysis."
      ]
    },
    {
      "cell_type": "markdown",
      "metadata": {
        "id": "UALu8s9rS4r8"
      },
      "source": [
        "Question 1 (10 points). Fomulate your domain problem: Describe an interesting research question (or practical question) you have in mind, what kind of data should be collected to answer the question(s)? How many data needed for the analysis? The detail steps for collecting and save the data. "
      ]
    },
    {
      "cell_type": "code",
      "execution_count": null,
      "metadata": {
        "id": "CMUb_jaOS4r8"
      },
      "outputs": [],
      "source": [
        "# Your answer here (no code for this question, write down your answer as detail as possible for the above questions):\n",
        "\n",
        "'''\n",
        "Please write you answer here:\n",
        "  Being a movie buff, finding a really good movie is getting really difficult with increase in the amount of content being \n",
        "generated and the dissapointing quality of the ones that are being created. In this case, it would be a really handful thing \n",
        "to have a list of highly recommended movies which are suggested by a software, whose deductions arebased on the popularity, \n",
        "ratings and the number of ratings recieved from a complete audience and not just the exclusive genre fans. As I am from India, \n",
        "I would like to explore subcontinents' movie masterpieces.\n",
        "\n",
        "  So, I want to have a list of movies which are considered best by a movie recommending algorithm in a website named, IMDb.\n",
        "To pursue my goal I need to scrape the IMDb website which contains the top rated movies and a particular webpage where it \n",
        "has 'top rated indian movies of all time' section with around 250 titles.\n",
        "\n",
        "Research Question:\n",
        "  Once I get my hands on the data, I would like to know: Which movies are considered the best in the subcontinent? Which of the\n",
        "regional languages do most of them belong to? What kind of relationship exist between popularity and approval among the audiences? \n",
        "\n",
        "Kind of Data:\n",
        "  To answer my questions I need a list of movies from India, that are sorted based on their popularity. The list must a ratings \n",
        "column in addition the popularity order. And the data must be scrapped from an authentic website, in our case, it it IMDb, which is\n",
        "considered a 'Mecca for movie buffs'. \n",
        "\n",
        "Size of Data:\n",
        "  For this analysis, I would like get really good amount of records, so that I can keep myself busy with these movies in the leisure\n",
        "times, so anything more than 200 records should be really good for me.\n",
        "\n",
        "Data Collection:\n",
        "  To collect the data required for the analysis, i would like to use BeautifulSoup to scrape some data from IMDb webpage named, top \n",
        "rated indian movies:\n",
        "  First, we need to import Pandas, requests and BeautifulSoup libraries.\n",
        "  Then, we need to scrape the data using BeautifulSoup from the desired url of the webpage into variable and parse it using html parser.\n",
        "  Then, find the attributes and classes to select the meaningful data.\n",
        "  Then, get the text from code and append it to an empty list using append.\n",
        "  Now, using pandas, dataframes and to_csv() attribute, we can structure and save the data.\n",
        "'''"
      ]
    },
    {
      "cell_type": "markdown",
      "metadata": {
        "id": "Au89fb4XS4r9"
      },
      "source": [
        "Question 2 (30 points). Collect your data to answer the research problem: Write python code to collect 1000 data samples you discussed above."
      ]
    },
    {
      "cell_type": "code",
      "execution_count": 6,
      "metadata": {
        "colab": {
          "base_uri": "https://localhost:8080/",
          "height": 206
        },
        "id": "795QepXGS4r-",
        "outputId": "255eaabe-8dfe-4cdf-b26f-99d222fec210"
      },
      "outputs": [
        {
          "output_type": "execute_result",
          "data": {
            "text/plain": [
              "                        Movie Name Rating\n",
              "0         1.      Anbe Sivam(2003)    8.4\n",
              "1            2.      Golmaal(1979)    8.4\n",
              "2           3.      Jai Bhim(2021)    8.4\n",
              "3            4.      Nayakan(1987)    8.4\n",
              "4  5.      Pariyerum Perumal(2018)    8.4"
            ],
            "text/html": [
              "\n",
              "  <div id=\"df-f1d96c70-49af-4b67-8fc4-0c3dc3d664bc\">\n",
              "    <div class=\"colab-df-container\">\n",
              "      <div>\n",
              "<style scoped>\n",
              "    .dataframe tbody tr th:only-of-type {\n",
              "        vertical-align: middle;\n",
              "    }\n",
              "\n",
              "    .dataframe tbody tr th {\n",
              "        vertical-align: top;\n",
              "    }\n",
              "\n",
              "    .dataframe thead th {\n",
              "        text-align: right;\n",
              "    }\n",
              "</style>\n",
              "<table border=\"1\" class=\"dataframe\">\n",
              "  <thead>\n",
              "    <tr style=\"text-align: right;\">\n",
              "      <th></th>\n",
              "      <th>Movie Name</th>\n",
              "      <th>Rating</th>\n",
              "    </tr>\n",
              "  </thead>\n",
              "  <tbody>\n",
              "    <tr>\n",
              "      <th>0</th>\n",
              "      <td>1.      Anbe Sivam(2003)</td>\n",
              "      <td>8.4</td>\n",
              "    </tr>\n",
              "    <tr>\n",
              "      <th>1</th>\n",
              "      <td>2.      Golmaal(1979)</td>\n",
              "      <td>8.4</td>\n",
              "    </tr>\n",
              "    <tr>\n",
              "      <th>2</th>\n",
              "      <td>3.      Jai Bhim(2021)</td>\n",
              "      <td>8.4</td>\n",
              "    </tr>\n",
              "    <tr>\n",
              "      <th>3</th>\n",
              "      <td>4.      Nayakan(1987)</td>\n",
              "      <td>8.4</td>\n",
              "    </tr>\n",
              "    <tr>\n",
              "      <th>4</th>\n",
              "      <td>5.      Pariyerum Perumal(2018)</td>\n",
              "      <td>8.4</td>\n",
              "    </tr>\n",
              "  </tbody>\n",
              "</table>\n",
              "</div>\n",
              "      <button class=\"colab-df-convert\" onclick=\"convertToInteractive('df-f1d96c70-49af-4b67-8fc4-0c3dc3d664bc')\"\n",
              "              title=\"Convert this dataframe to an interactive table.\"\n",
              "              style=\"display:none;\">\n",
              "        \n",
              "  <svg xmlns=\"http://www.w3.org/2000/svg\" height=\"24px\"viewBox=\"0 0 24 24\"\n",
              "       width=\"24px\">\n",
              "    <path d=\"M0 0h24v24H0V0z\" fill=\"none\"/>\n",
              "    <path d=\"M18.56 5.44l.94 2.06.94-2.06 2.06-.94-2.06-.94-.94-2.06-.94 2.06-2.06.94zm-11 1L8.5 8.5l.94-2.06 2.06-.94-2.06-.94L8.5 2.5l-.94 2.06-2.06.94zm10 10l.94 2.06.94-2.06 2.06-.94-2.06-.94-.94-2.06-.94 2.06-2.06.94z\"/><path d=\"M17.41 7.96l-1.37-1.37c-.4-.4-.92-.59-1.43-.59-.52 0-1.04.2-1.43.59L10.3 9.45l-7.72 7.72c-.78.78-.78 2.05 0 2.83L4 21.41c.39.39.9.59 1.41.59.51 0 1.02-.2 1.41-.59l7.78-7.78 2.81-2.81c.8-.78.8-2.07 0-2.86zM5.41 20L4 18.59l7.72-7.72 1.47 1.35L5.41 20z\"/>\n",
              "  </svg>\n",
              "      </button>\n",
              "      \n",
              "  <style>\n",
              "    .colab-df-container {\n",
              "      display:flex;\n",
              "      flex-wrap:wrap;\n",
              "      gap: 12px;\n",
              "    }\n",
              "\n",
              "    .colab-df-convert {\n",
              "      background-color: #E8F0FE;\n",
              "      border: none;\n",
              "      border-radius: 50%;\n",
              "      cursor: pointer;\n",
              "      display: none;\n",
              "      fill: #1967D2;\n",
              "      height: 32px;\n",
              "      padding: 0 0 0 0;\n",
              "      width: 32px;\n",
              "    }\n",
              "\n",
              "    .colab-df-convert:hover {\n",
              "      background-color: #E2EBFA;\n",
              "      box-shadow: 0px 1px 2px rgba(60, 64, 67, 0.3), 0px 1px 3px 1px rgba(60, 64, 67, 0.15);\n",
              "      fill: #174EA6;\n",
              "    }\n",
              "\n",
              "    [theme=dark] .colab-df-convert {\n",
              "      background-color: #3B4455;\n",
              "      fill: #D2E3FC;\n",
              "    }\n",
              "\n",
              "    [theme=dark] .colab-df-convert:hover {\n",
              "      background-color: #434B5C;\n",
              "      box-shadow: 0px 1px 3px 1px rgba(0, 0, 0, 0.15);\n",
              "      filter: drop-shadow(0px 1px 2px rgba(0, 0, 0, 0.3));\n",
              "      fill: #FFFFFF;\n",
              "    }\n",
              "  </style>\n",
              "\n",
              "      <script>\n",
              "        const buttonEl =\n",
              "          document.querySelector('#df-f1d96c70-49af-4b67-8fc4-0c3dc3d664bc button.colab-df-convert');\n",
              "        buttonEl.style.display =\n",
              "          google.colab.kernel.accessAllowed ? 'block' : 'none';\n",
              "\n",
              "        async function convertToInteractive(key) {\n",
              "          const element = document.querySelector('#df-f1d96c70-49af-4b67-8fc4-0c3dc3d664bc');\n",
              "          const dataTable =\n",
              "            await google.colab.kernel.invokeFunction('convertToInteractive',\n",
              "                                                     [key], {});\n",
              "          if (!dataTable) return;\n",
              "\n",
              "          const docLinkHtml = 'Like what you see? Visit the ' +\n",
              "            '<a target=\"_blank\" href=https://colab.research.google.com/notebooks/data_table.ipynb>data table notebook</a>'\n",
              "            + ' to learn more about interactive tables.';\n",
              "          element.innerHTML = '';\n",
              "          dataTable['output_type'] = 'display_data';\n",
              "          await google.colab.output.renderOutput(dataTable, element);\n",
              "          const docLink = document.createElement('div');\n",
              "          docLink.innerHTML = docLinkHtml;\n",
              "          element.appendChild(docLink);\n",
              "        }\n",
              "      </script>\n",
              "    </div>\n",
              "  </div>\n",
              "  "
            ]
          },
          "metadata": {},
          "execution_count": 6
        }
      ],
      "source": [
        "# You code here (Please add comments in the code):\n",
        "import urllib.request      #importing the required libraries\n",
        "from bs4 import BeautifulSoup\n",
        "import requests\n",
        "import pandas as pd\n",
        "\n",
        "url = \"https://www.imdb.com/india/top-rated-indian-movies/\"   #webpage\n",
        "\n",
        "page = requests.get(url)      #Getting the source of the webpage\n",
        "soup=BeautifulSoup(page.content, \"html.parser\")       #parsing html content\n",
        "\n",
        "mscrap=soup.find_all('td', class_='titleColumn')        #finding the title of the record\n",
        "movies=[]                                               #empty list\n",
        "for movie in mscrap:\n",
        "  movie=movie.get_text().replace(\"\\n\",\"\").strip(\" \")     #getting text into the variable from the souce\n",
        "  movies.append(movie)                                   #appending the generated text to empty list\n",
        "\n",
        "rscrap=soup.find_all('td', class_='ratingColumn imdbRating')   #finding the rating of the record\n",
        "ratings=[]                                                     #empty list\n",
        "for rating in rscrap:\n",
        "  rating=rating.get_text().replace(\"\\n\",\"\")                    #getting the ratings from the source\n",
        "  ratings.append(rating)                                       #appending the generated text to empty list\n",
        "\n",
        "\n",
        "data=pd.DataFrame()                        #creating a dataframe\n",
        "data[\"Movie Name\"]=movies                  #assigning values to keys\n",
        "data[\"Rating\"]=ratings                \n",
        "\n",
        "\n",
        "data.to_csv(\"Top Rated Indian Movies\", index=False)   #saving the generated data into a comma seperated values file\n",
        "\n",
        "data.head()            #Head of the dataframe\n",
        "\n",
        "\n"
      ]
    },
    {
      "cell_type": "markdown",
      "metadata": {
        "id": "5GX-shp1S4r-"
      },
      "source": [
        "Question 3 (10 points). Understand the data quality: Search a second hand dataset (any dataset) from kaggle or other websites. Describe the data quality problem of the dataset and explain your strtegy to clean the data."
      ]
    },
    {
      "cell_type": "code",
      "execution_count": null,
      "metadata": {
        "id": "YIhW4ocSS4r-"
      },
      "outputs": [],
      "source": [
        "# Your answer here (no code for this question, write down your answer as detail as possible for the above questions):\n",
        "'''\n",
        "Please write you answer here:\n",
        "  After going through similar movie lists on Kaggle, I can understand the usual metrics that are used to better\n",
        "understand this domain and also the ideal structure would be the one with least clutter.\n",
        "\n",
        "  Coming to my data, I need to check for missing values, inconsistencies and outliers in my data to better understand the\n",
        "quality of the data and also level of cleaning it requires consequently.\n",
        "    \n",
        "  Data seems structured enough for the analysis but it is cluttered with dual index numbers. So, I would like to start \n",
        "cleaning my data by stripping off the index numbers off of the movie titles using split attribute.\n",
        "\n",
        "  Then, I would like to split the movie title again to form two columns with year as the additional variable, so that I can\n",
        "also analyze based on the year of the movie's release.\n",
        "\n",
        "  Now, the data must be structued as well as clean by this time and should be ready for the next step of the lifeccyle.\n",
        "'''"
      ]
    }
  ],
  "metadata": {
    "kernelspec": {
      "display_name": "Python 3 (ipykernel)",
      "language": "python",
      "name": "python3"
    },
    "language_info": {
      "codemirror_mode": {
        "name": "ipython",
        "version": 3
      },
      "file_extension": ".py",
      "mimetype": "text/x-python",
      "name": "python",
      "nbconvert_exporter": "python",
      "pygments_lexer": "ipython3",
      "version": "3.9.12"
    },
    "vscode": {
      "interpreter": {
        "hash": "5c6a7f839effdddf35473dacbb9a8184e57ebbba5133cab03b12e4f28d4f0d0f"
      }
    },
    "colab": {
      "name": "lab_assignment_03_sairam_mandarapu.ipynb",
      "provenance": [],
      "collapsed_sections": []
    }
  },
  "nbformat": 4,
  "nbformat_minor": 0
}